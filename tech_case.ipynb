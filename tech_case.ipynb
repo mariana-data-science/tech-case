{
  "nbformat": 4,
  "nbformat_minor": 0,
  "metadata": {
    "colab": {
      "provenance": []
    },
    "kernelspec": {
      "name": "python3",
      "display_name": "Python 3"
    },
    "language_info": {
      "name": "python"
    }
  },
  "cells": [
    {
      "cell_type": "markdown",
      "source": [
        "Greetings!\n",
        "I've decided to use Colab not only to run my SQL scripts and visualize data with Matplotlib but also to document and explain my thought process."
      ],
      "metadata": {
        "id": "sjNxNpSJyWFA"
      }
    },
    {
      "cell_type": "markdown",
      "source": [
        "\n",
        "\n",
        "---\n",
        "\n"
      ],
      "metadata": {
        "id": "aDVL2xqqEtEO"
      }
    },
    {
      "cell_type": "markdown",
      "source": [
        "After understanding the challenge, my first step was to standardize the data using Excel. This way, when I upload the CSV, the data would adhere to a consistent format.\n",
        "\n",
        "The standardization process involved converting three columns, **status_change_date, lead_created_date, and current_opp_status_date**, from the INT type to DATETIME, aligning them with the **current_lead_status_date** column."
      ],
      "metadata": {
        "id": "ttB78dqby8QC"
      }
    },
    {
      "cell_type": "markdown",
      "source": [
        "\n",
        " ![image.png](data:image/png;base64,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)\n",
        "\n",
        "![image.png](data:image/png;base64,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)"
      ],
      "metadata": {
        "id": "HI-Pvj6T0UQK"
      }
    },
    {
      "cell_type": "markdown",
      "source": [
        "moving on to the actual challenge,\n",
        "first I had to import the libraries, I am more used to work with SAP Hana for SQL Scripts or Oracle.\n",
        "\n",
        "So I made some researches on how to connect it straight to Google Colab.\n",
        "\n",
        "\n",
        "\n"
      ],
      "metadata": {
        "id": "t7VUoXnN1fC9"
      }
    },
    {
      "cell_type": "code",
      "source": [
        "import pandas as pd\n",
        "import sqlite3"
      ],
      "metadata": {
        "id": "-6AuQ6ry1c7b"
      },
      "execution_count": null,
      "outputs": []
    },
    {
      "cell_type": "code",
      "execution_count": null,
      "metadata": {
        "id": "XQVznZQTx1Vg"
      },
      "outputs": [],
      "source": [
        "df = pd.read_csv('sales_data_standard.csv')"
      ]
    },
    {
      "cell_type": "code",
      "source": [
        "conn = sqlite3.connect('sales_data.db')"
      ],
      "metadata": {
        "id": "hJK2PBDV3iLm"
      },
      "execution_count": null,
      "outputs": []
    },
    {
      "cell_type": "code",
      "source": [
        "df.to_sql('sales_data', conn, if_exists='replace', index=False)"
      ],
      "metadata": {
        "colab": {
          "base_uri": "https://localhost:8080/"
        },
        "id": "zkt0FpYQ3j46",
        "outputId": "92c2f35e-acf5-41e9-a6b5-37e7d817aa14"
      },
      "execution_count": null,
      "outputs": [
        {
          "output_type": "execute_result",
          "data": {
            "text/plain": [
              "5656"
            ]
          },
          "metadata": {},
          "execution_count": 5
        }
      ]
    },
    {
      "cell_type": "code",
      "source": [
        "pd.read_sql('SELECT * FROM sales_data LIMIT 5', conn)"
      ],
      "metadata": {
        "colab": {
          "base_uri": "https://localhost:8080/",
          "height": 226
        },
        "id": "oCur462C3p7R",
        "outputId": "1a22b591-1a24-4409-f9eb-5f291baa0102"
      },
      "execution_count": null,
      "outputs": [
        {
          "output_type": "execute_result",
          "data": {
            "text/plain": [
              "     company  opportunity_value    old_status_label  new_status_label  \\\n",
              "0  company11                 29  MR - Qualification    AE - Qualified   \n",
              "1  company11                 29      AE - Qualified  AE - Negotiation   \n",
              "2  company11                 29    AE - Negotiation         Confirmed   \n",
              "3  company11                 29           Confirmed            Paying   \n",
              "4  company15                272  MR - Qualification    AE - Qualified   \n",
              "\n",
              "    status_change_date    lead_created_date current_lead_status  \\\n",
              "0  2018-10-08 15:33:40  2018-10-08 11:47:55            Customer   \n",
              "1  2018-10-08 15:59:09  2018-10-08 11:47:55            Customer   \n",
              "2  2018-10-10 14:47:37  2018-10-08 11:47:55            Customer   \n",
              "3  2018-10-18 12:25:32  2018-10-08 11:47:55            Customer   \n",
              "4  2019-04-03 12:59:46  2019-04-01 09:54:41           Qualified   \n",
              "\n",
              "  current_lead_status_date current_opp_status current_opp_status_date  \\\n",
              "0      2018-10-10 14:47:41             Paying     2018-10-18 12:25:32   \n",
              "1      2018-10-10 14:47:41             Paying     2018-10-18 12:25:32   \n",
              "2      2018-10-10 14:47:41             Paying     2018-10-18 12:25:32   \n",
              "3      2018-10-10 14:47:41             Paying     2018-10-18 12:25:32   \n",
              "4      2019-04-03 12:57:49     AE - Qualified     2019-04-03 12:59:46   \n",
              "\n",
              "  billing_period_unit  billing_period  \n",
              "0               month               1  \n",
              "1               month               1  \n",
              "2               month               1  \n",
              "3               month               3  \n",
              "4                year               1  "
            ],
            "text/html": [
              "\n",
              "  <div id=\"df-5b66970c-ea85-4b49-8e65-27b6e97e9b8d\" class=\"colab-df-container\">\n",
              "    <div>\n",
              "<style scoped>\n",
              "    .dataframe tbody tr th:only-of-type {\n",
              "        vertical-align: middle;\n",
              "    }\n",
              "\n",
              "    .dataframe tbody tr th {\n",
              "        vertical-align: top;\n",
              "    }\n",
              "\n",
              "    .dataframe thead th {\n",
              "        text-align: right;\n",
              "    }\n",
              "</style>\n",
              "<table border=\"1\" class=\"dataframe\">\n",
              "  <thead>\n",
              "    <tr style=\"text-align: right;\">\n",
              "      <th></th>\n",
              "      <th>company</th>\n",
              "      <th>opportunity_value</th>\n",
              "      <th>old_status_label</th>\n",
              "      <th>new_status_label</th>\n",
              "      <th>status_change_date</th>\n",
              "      <th>lead_created_date</th>\n",
              "      <th>current_lead_status</th>\n",
              "      <th>current_lead_status_date</th>\n",
              "      <th>current_opp_status</th>\n",
              "      <th>current_opp_status_date</th>\n",
              "      <th>billing_period_unit</th>\n",
              "      <th>billing_period</th>\n",
              "    </tr>\n",
              "  </thead>\n",
              "  <tbody>\n",
              "    <tr>\n",
              "      <th>0</th>\n",
              "      <td>company11</td>\n",
              "      <td>29</td>\n",
              "      <td>MR - Qualification</td>\n",
              "      <td>AE - Qualified</td>\n",
              "      <td>2018-10-08 15:33:40</td>\n",
              "      <td>2018-10-08 11:47:55</td>\n",
              "      <td>Customer</td>\n",
              "      <td>2018-10-10 14:47:41</td>\n",
              "      <td>Paying</td>\n",
              "      <td>2018-10-18 12:25:32</td>\n",
              "      <td>month</td>\n",
              "      <td>1</td>\n",
              "    </tr>\n",
              "    <tr>\n",
              "      <th>1</th>\n",
              "      <td>company11</td>\n",
              "      <td>29</td>\n",
              "      <td>AE - Qualified</td>\n",
              "      <td>AE - Negotiation</td>\n",
              "      <td>2018-10-08 15:59:09</td>\n",
              "      <td>2018-10-08 11:47:55</td>\n",
              "      <td>Customer</td>\n",
              "      <td>2018-10-10 14:47:41</td>\n",
              "      <td>Paying</td>\n",
              "      <td>2018-10-18 12:25:32</td>\n",
              "      <td>month</td>\n",
              "      <td>1</td>\n",
              "    </tr>\n",
              "    <tr>\n",
              "      <th>2</th>\n",
              "      <td>company11</td>\n",
              "      <td>29</td>\n",
              "      <td>AE - Negotiation</td>\n",
              "      <td>Confirmed</td>\n",
              "      <td>2018-10-10 14:47:37</td>\n",
              "      <td>2018-10-08 11:47:55</td>\n",
              "      <td>Customer</td>\n",
              "      <td>2018-10-10 14:47:41</td>\n",
              "      <td>Paying</td>\n",
              "      <td>2018-10-18 12:25:32</td>\n",
              "      <td>month</td>\n",
              "      <td>1</td>\n",
              "    </tr>\n",
              "    <tr>\n",
              "      <th>3</th>\n",
              "      <td>company11</td>\n",
              "      <td>29</td>\n",
              "      <td>Confirmed</td>\n",
              "      <td>Paying</td>\n",
              "      <td>2018-10-18 12:25:32</td>\n",
              "      <td>2018-10-08 11:47:55</td>\n",
              "      <td>Customer</td>\n",
              "      <td>2018-10-10 14:47:41</td>\n",
              "      <td>Paying</td>\n",
              "      <td>2018-10-18 12:25:32</td>\n",
              "      <td>month</td>\n",
              "      <td>3</td>\n",
              "    </tr>\n",
              "    <tr>\n",
              "      <th>4</th>\n",
              "      <td>company15</td>\n",
              "      <td>272</td>\n",
              "      <td>MR - Qualification</td>\n",
              "      <td>AE - Qualified</td>\n",
              "      <td>2019-04-03 12:59:46</td>\n",
              "      <td>2019-04-01 09:54:41</td>\n",
              "      <td>Qualified</td>\n",
              "      <td>2019-04-03 12:57:49</td>\n",
              "      <td>AE - Qualified</td>\n",
              "      <td>2019-04-03 12:59:46</td>\n",
              "      <td>year</td>\n",
              "      <td>1</td>\n",
              "    </tr>\n",
              "  </tbody>\n",
              "</table>\n",
              "</div>\n",
              "    <div class=\"colab-df-buttons\">\n",
              "\n",
              "  <div class=\"colab-df-container\">\n",
              "    <button class=\"colab-df-convert\" onclick=\"convertToInteractive('df-5b66970c-ea85-4b49-8e65-27b6e97e9b8d')\"\n",
              "            title=\"Convert this dataframe to an interactive table.\"\n",
              "            style=\"display:none;\">\n",
              "\n",
              "  <svg xmlns=\"http://www.w3.org/2000/svg\" height=\"24px\" viewBox=\"0 -960 960 960\">\n",
              "    <path d=\"M120-120v-720h720v720H120Zm60-500h600v-160H180v160Zm220 220h160v-160H400v160Zm0 220h160v-160H400v160ZM180-400h160v-160H180v160Zm440 0h160v-160H620v160ZM180-180h160v-160H180v160Zm440 0h160v-160H620v160Z\"/>\n",
              "  </svg>\n",
              "    </button>\n",
              "\n",
              "  <style>\n",
              "    .colab-df-container {\n",
              "      display:flex;\n",
              "      gap: 12px;\n",
              "    }\n",
              "\n",
              "    .colab-df-convert {\n",
              "      background-color: #E8F0FE;\n",
              "      border: none;\n",
              "      border-radius: 50%;\n",
              "      cursor: pointer;\n",
              "      display: none;\n",
              "      fill: #1967D2;\n",
              "      height: 32px;\n",
              "      padding: 0 0 0 0;\n",
              "      width: 32px;\n",
              "    }\n",
              "\n",
              "    .colab-df-convert:hover {\n",
              "      background-color: #E2EBFA;\n",
              "      box-shadow: 0px 1px 2px rgba(60, 64, 67, 0.3), 0px 1px 3px 1px rgba(60, 64, 67, 0.15);\n",
              "      fill: #174EA6;\n",
              "    }\n",
              "\n",
              "    .colab-df-buttons div {\n",
              "      margin-bottom: 4px;\n",
              "    }\n",
              "\n",
              "    [theme=dark] .colab-df-convert {\n",
              "      background-color: #3B4455;\n",
              "      fill: #D2E3FC;\n",
              "    }\n",
              "\n",
              "    [theme=dark] .colab-df-convert:hover {\n",
              "      background-color: #434B5C;\n",
              "      box-shadow: 0px 1px 3px 1px rgba(0, 0, 0, 0.15);\n",
              "      filter: drop-shadow(0px 1px 2px rgba(0, 0, 0, 0.3));\n",
              "      fill: #FFFFFF;\n",
              "    }\n",
              "  </style>\n",
              "\n",
              "    <script>\n",
              "      const buttonEl =\n",
              "        document.querySelector('#df-5b66970c-ea85-4b49-8e65-27b6e97e9b8d button.colab-df-convert');\n",
              "      buttonEl.style.display =\n",
              "        google.colab.kernel.accessAllowed ? 'block' : 'none';\n",
              "\n",
              "      async function convertToInteractive(key) {\n",
              "        const element = document.querySelector('#df-5b66970c-ea85-4b49-8e65-27b6e97e9b8d');\n",
              "        const dataTable =\n",
              "          await google.colab.kernel.invokeFunction('convertToInteractive',\n",
              "                                                    [key], {});\n",
              "        if (!dataTable) return;\n",
              "\n",
              "        const docLinkHtml = 'Like what you see? Visit the ' +\n",
              "          '<a target=\"_blank\" href=https://colab.research.google.com/notebooks/data_table.ipynb>data table notebook</a>'\n",
              "          + ' to learn more about interactive tables.';\n",
              "        element.innerHTML = '';\n",
              "        dataTable['output_type'] = 'display_data';\n",
              "        await google.colab.output.renderOutput(dataTable, element);\n",
              "        const docLink = document.createElement('div');\n",
              "        docLink.innerHTML = docLinkHtml;\n",
              "        element.appendChild(docLink);\n",
              "      }\n",
              "    </script>\n",
              "  </div>\n",
              "\n",
              "\n",
              "    <div id=\"df-9692157c-c3cc-4aff-a0de-468e70b401e4\">\n",
              "      <button class=\"colab-df-quickchart\" onclick=\"quickchart('df-9692157c-c3cc-4aff-a0de-468e70b401e4')\"\n",
              "                title=\"Suggest charts\"\n",
              "                style=\"display:none;\">\n",
              "\n",
              "<svg xmlns=\"http://www.w3.org/2000/svg\" height=\"24px\"viewBox=\"0 0 24 24\"\n",
              "     width=\"24px\">\n",
              "    <g>\n",
              "        <path d=\"M19 3H5c-1.1 0-2 .9-2 2v14c0 1.1.9 2 2 2h14c1.1 0 2-.9 2-2V5c0-1.1-.9-2-2-2zM9 17H7v-7h2v7zm4 0h-2V7h2v10zm4 0h-2v-4h2v4z\"/>\n",
              "    </g>\n",
              "</svg>\n",
              "      </button>\n",
              "\n",
              "<style>\n",
              "  .colab-df-quickchart {\n",
              "      --bg-color: #E8F0FE;\n",
              "      --fill-color: #1967D2;\n",
              "      --hover-bg-color: #E2EBFA;\n",
              "      --hover-fill-color: #174EA6;\n",
              "      --disabled-fill-color: #AAA;\n",
              "      --disabled-bg-color: #DDD;\n",
              "  }\n",
              "\n",
              "  [theme=dark] .colab-df-quickchart {\n",
              "      --bg-color: #3B4455;\n",
              "      --fill-color: #D2E3FC;\n",
              "      --hover-bg-color: #434B5C;\n",
              "      --hover-fill-color: #FFFFFF;\n",
              "      --disabled-bg-color: #3B4455;\n",
              "      --disabled-fill-color: #666;\n",
              "  }\n",
              "\n",
              "  .colab-df-quickchart {\n",
              "    background-color: var(--bg-color);\n",
              "    border: none;\n",
              "    border-radius: 50%;\n",
              "    cursor: pointer;\n",
              "    display: none;\n",
              "    fill: var(--fill-color);\n",
              "    height: 32px;\n",
              "    padding: 0;\n",
              "    width: 32px;\n",
              "  }\n",
              "\n",
              "  .colab-df-quickchart:hover {\n",
              "    background-color: var(--hover-bg-color);\n",
              "    box-shadow: 0 1px 2px rgba(60, 64, 67, 0.3), 0 1px 3px 1px rgba(60, 64, 67, 0.15);\n",
              "    fill: var(--button-hover-fill-color);\n",
              "  }\n",
              "\n",
              "  .colab-df-quickchart-complete:disabled,\n",
              "  .colab-df-quickchart-complete:disabled:hover {\n",
              "    background-color: var(--disabled-bg-color);\n",
              "    fill: var(--disabled-fill-color);\n",
              "    box-shadow: none;\n",
              "  }\n",
              "\n",
              "  .colab-df-spinner {\n",
              "    border: 2px solid var(--fill-color);\n",
              "    border-color: transparent;\n",
              "    border-bottom-color: var(--fill-color);\n",
              "    animation:\n",
              "      spin 1s steps(1) infinite;\n",
              "  }\n",
              "\n",
              "  @keyframes spin {\n",
              "    0% {\n",
              "      border-color: transparent;\n",
              "      border-bottom-color: var(--fill-color);\n",
              "      border-left-color: var(--fill-color);\n",
              "    }\n",
              "    20% {\n",
              "      border-color: transparent;\n",
              "      border-left-color: var(--fill-color);\n",
              "      border-top-color: var(--fill-color);\n",
              "    }\n",
              "    30% {\n",
              "      border-color: transparent;\n",
              "      border-left-color: var(--fill-color);\n",
              "      border-top-color: var(--fill-color);\n",
              "      border-right-color: var(--fill-color);\n",
              "    }\n",
              "    40% {\n",
              "      border-color: transparent;\n",
              "      border-right-color: var(--fill-color);\n",
              "      border-top-color: var(--fill-color);\n",
              "    }\n",
              "    60% {\n",
              "      border-color: transparent;\n",
              "      border-right-color: var(--fill-color);\n",
              "    }\n",
              "    80% {\n",
              "      border-color: transparent;\n",
              "      border-right-color: var(--fill-color);\n",
              "      border-bottom-color: var(--fill-color);\n",
              "    }\n",
              "    90% {\n",
              "      border-color: transparent;\n",
              "      border-bottom-color: var(--fill-color);\n",
              "    }\n",
              "  }\n",
              "</style>\n",
              "\n",
              "      <script>\n",
              "        async function quickchart(key) {\n",
              "          const quickchartButtonEl =\n",
              "            document.querySelector('#' + key + ' button');\n",
              "          quickchartButtonEl.disabled = true;  // To prevent multiple clicks.\n",
              "          quickchartButtonEl.classList.add('colab-df-spinner');\n",
              "          try {\n",
              "            const charts = await google.colab.kernel.invokeFunction(\n",
              "                'suggestCharts', [key], {});\n",
              "          } catch (error) {\n",
              "            console.error('Error during call to suggestCharts:', error);\n",
              "          }\n",
              "          quickchartButtonEl.classList.remove('colab-df-spinner');\n",
              "          quickchartButtonEl.classList.add('colab-df-quickchart-complete');\n",
              "        }\n",
              "        (() => {\n",
              "          let quickchartButtonEl =\n",
              "            document.querySelector('#df-9692157c-c3cc-4aff-a0de-468e70b401e4 button');\n",
              "          quickchartButtonEl.style.display =\n",
              "            google.colab.kernel.accessAllowed ? 'block' : 'none';\n",
              "        })();\n",
              "      </script>\n",
              "    </div>\n",
              "\n",
              "    </div>\n",
              "  </div>\n"
            ],
            "application/vnd.google.colaboratory.intrinsic+json": {
              "type": "dataframe",
              "summary": "{\n  \"name\": \"pd\",\n  \"rows\": 5,\n  \"fields\": [\n    {\n      \"column\": \"company\",\n      \"properties\": {\n        \"dtype\": \"category\",\n        \"num_unique_values\": 2,\n        \"samples\": [\n          \"company15\",\n          \"company11\"\n        ],\n        \"semantic_type\": \"\",\n        \"description\": \"\"\n      }\n    },\n    {\n      \"column\": \"opportunity_value\",\n      \"properties\": {\n        \"dtype\": \"number\",\n        \"std\": 108,\n        \"min\": 29,\n        \"max\": 272,\n        \"num_unique_values\": 2,\n        \"samples\": [\n          272,\n          29\n        ],\n        \"semantic_type\": \"\",\n        \"description\": \"\"\n      }\n    },\n    {\n      \"column\": \"old_status_label\",\n      \"properties\": {\n        \"dtype\": \"string\",\n        \"num_unique_values\": 4,\n        \"samples\": [\n          \"AE - Qualified\",\n          \"Confirmed\"\n        ],\n        \"semantic_type\": \"\",\n        \"description\": \"\"\n      }\n    },\n    {\n      \"column\": \"new_status_label\",\n      \"properties\": {\n        \"dtype\": \"string\",\n        \"num_unique_values\": 4,\n        \"samples\": [\n          \"AE - Negotiation\",\n          \"Paying\"\n        ],\n        \"semantic_type\": \"\",\n        \"description\": \"\"\n      }\n    },\n    {\n      \"column\": \"status_change_date\",\n      \"properties\": {\n        \"dtype\": \"object\",\n        \"num_unique_values\": 5,\n        \"samples\": [\n          \"2018-10-08 15:59:09\",\n          \"2019-04-03 12:59:46\"\n        ],\n        \"semantic_type\": \"\",\n        \"description\": \"\"\n      }\n    },\n    {\n      \"column\": \"lead_created_date\",\n      \"properties\": {\n        \"dtype\": \"object\",\n        \"num_unique_values\": 2,\n        \"samples\": [\n          \"2019-04-01 09:54:41\",\n          \"2018-10-08 11:47:55\"\n        ],\n        \"semantic_type\": \"\",\n        \"description\": \"\"\n      }\n    },\n    {\n      \"column\": \"current_lead_status\",\n      \"properties\": {\n        \"dtype\": \"category\",\n        \"num_unique_values\": 2,\n        \"samples\": [\n          \"Qualified\",\n          \"Customer\"\n        ],\n        \"semantic_type\": \"\",\n        \"description\": \"\"\n      }\n    },\n    {\n      \"column\": \"current_lead_status_date\",\n      \"properties\": {\n        \"dtype\": \"object\",\n        \"num_unique_values\": 2,\n        \"samples\": [\n          \"2019-04-03 12:57:49\",\n          \"2018-10-10 14:47:41\"\n        ],\n        \"semantic_type\": \"\",\n        \"description\": \"\"\n      }\n    },\n    {\n      \"column\": \"current_opp_status\",\n      \"properties\": {\n        \"dtype\": \"category\",\n        \"num_unique_values\": 2,\n        \"samples\": [\n          \"AE - Qualified\",\n          \"Paying\"\n        ],\n        \"semantic_type\": \"\",\n        \"description\": \"\"\n      }\n    },\n    {\n      \"column\": \"current_opp_status_date\",\n      \"properties\": {\n        \"dtype\": \"object\",\n        \"num_unique_values\": 2,\n        \"samples\": [\n          \"2019-04-03 12:59:46\",\n          \"2018-10-18 12:25:32\"\n        ],\n        \"semantic_type\": \"\",\n        \"description\": \"\"\n      }\n    },\n    {\n      \"column\": \"billing_period_unit\",\n      \"properties\": {\n        \"dtype\": \"category\",\n        \"num_unique_values\": 2,\n        \"samples\": [\n          \"year\",\n          \"month\"\n        ],\n        \"semantic_type\": \"\",\n        \"description\": \"\"\n      }\n    },\n    {\n      \"column\": \"billing_period\",\n      \"properties\": {\n        \"dtype\": \"number\",\n        \"std\": 0,\n        \"min\": 1,\n        \"max\": 3,\n        \"num_unique_values\": 2,\n        \"samples\": [\n          3,\n          1\n        ],\n        \"semantic_type\": \"\",\n        \"description\": \"\"\n      }\n    }\n  ]\n}"
            }
          },
          "metadata": {},
          "execution_count": 6
        }
      ]
    },
    {
      "cell_type": "markdown",
      "source": [
        "After the scripts above, I was able to get started with the first part of the challenge:\n",
        " * Create a sqlite database in the same directory\n",
        " * Load the data to the database\n"
      ],
      "metadata": {
        "id": "CQN_OY47D2pm"
      }
    },
    {
      "cell_type": "markdown",
      "source": [
        "\n",
        "\n",
        "---\n",
        "\n"
      ],
      "metadata": {
        "id": "2Dn_ZzN1Ejw0"
      }
    },
    {
      "cell_type": "markdown",
      "source": [
        "ANSWERING THE QUESTIONS"
      ],
      "metadata": {
        "id": "Gk_vmb733-ac"
      }
    },
    {
      "cell_type": "markdown",
      "source": [
        "# Calculate the average time per company to become a customer\n",
        "\n",
        "My thought process when answering the first question was to first understand the dates in the dataset.\n",
        "\n",
        "Since I had already standardized the data, it was easier to write the query and get accurate results.\n",
        "\n",
        "There are four different dates in the dataset:\n",
        "status_change_date, lead_created_date, current_lead_status_date, and current_opp_status_date.\n",
        "\n",
        "By analyzing each one, I understood the following:\n",
        "\n",
        "**lead_created_date** refers to when the lead is initially created.\n",
        "\n",
        "**status_change_date** marks when the status changes after the lead is created.\n",
        "\n",
        "**current_lead_status_date** is an update of the status after the previous change.\n",
        "\n",
        "**current_opp_status_date** is the final date that reflects the current opportunity status.\n",
        "\n",
        "After that, I also understood that I should filter **current_opp_status** as \"Paying\", since it indicates the leads that actually became customers.\n"
      ],
      "metadata": {
        "id": "uLlgjsg1VxlC"
      }
    },
    {
      "cell_type": "code",
      "source": [
        "query = \"\"\"\n",
        "SELECT\n",
        "    AVG(JULIANDAY(current_opp_status_date) - JULIANDAY(lead_created_date)) AS avg_days_to_customer\n",
        "FROM (\n",
        "    SELECT\n",
        "        company,\n",
        "        MIN(lead_created_date) AS lead_created_date,\n",
        "        MAX(current_opp_status_date) AS current_opp_status_date\n",
        "    FROM sales_data\n",
        "    WHERE current_opp_status = 'Paying'\n",
        "    GROUP BY company\n",
        ");\n",
        "\"\"\""
      ],
      "metadata": {
        "id": "HQfsSCP1sYpC"
      },
      "execution_count": null,
      "outputs": []
    },
    {
      "cell_type": "code",
      "source": [
        "result = pd.read_sql_query(query, conn)\n",
        "print(result)"
      ],
      "metadata": {
        "colab": {
          "base_uri": "https://localhost:8080/"
        },
        "id": "Y2KjrZTH4KPT",
        "outputId": "3609b76b-cc68-421d-84a5-01da309d0ca1"
      },
      "execution_count": null,
      "outputs": [
        {
          "output_type": "stream",
          "name": "stdout",
          "text": [
            "   avg_days_to_customer\n",
            "0             78.644105\n"
          ]
        }
      ]
    },
    {
      "cell_type": "markdown",
      "source": [
        "\n",
        "\n",
        "---\n",
        "\n"
      ],
      "metadata": {
        "id": "UhyFIkk0FRRr"
      }
    },
    {
      "cell_type": "markdown",
      "source": [
        "## Calculate how many customers have churned and reactivated:\n",
        "Bellow you will see the query for the challenge.\n",
        "\n",
        "My thought process was very simple and focused mostly on understanding two things:\n",
        " * Whats the current_opp_status?\n",
        " * Whats the current_lead_status?\n",
        "\n",
        " Because if I focused ONLY on the current_opp_status, which has \"Churned\" as one of the values in the column, the results would be completely different from the one I got, because we would have differents status on differents columns.\n",
        "\n",
        " After analyzing the data set I understood it makes sense to use current_lead_status as a filter as well because we could get ONLY the actual customers and not just any potential clients"
      ],
      "metadata": {
        "id": "m07rfqK3FLcf"
      }
    },
    {
      "cell_type": "code",
      "source": [
        "query2 = \"\"\"\n",
        "SELECT COUNT(DISTINCT company) AS churned_and_reactivated\n",
        "FROM (\n",
        "    SELECT company\n",
        "    FROM sales_data\n",
        "    WHERE current_opp_status = 'Churned'\n",
        "    AND current_lead_status = 'Customer'\n",
        ") AS churns\n",
        "WHERE company IN (\n",
        "    SELECT company FROM sales_data\n",
        "    WHERE 'current_opp_status' != 'Churned'\n",
        "    AND current_lead_status = 'Customer'\n",
        ")\n",
        "\"\"\"\n"
      ],
      "metadata": {
        "id": "h5vLRquv4VEm"
      },
      "execution_count": null,
      "outputs": []
    },
    {
      "cell_type": "code",
      "source": [
        "pd.read_sql(query2, conn)"
      ],
      "metadata": {
        "colab": {
          "base_uri": "https://localhost:8080/",
          "height": 80
        },
        "id": "iTVKDv1I4bQg",
        "outputId": "f6b902d0-8a73-4206-9826-d577b26911ef"
      },
      "execution_count": null,
      "outputs": [
        {
          "output_type": "execute_result",
          "data": {
            "text/plain": [
              "   churned_and_reactivated\n",
              "0                        1"
            ],
            "text/html": [
              "\n",
              "  <div id=\"df-010b8f39-fb58-44af-962f-3503c0c27d11\" class=\"colab-df-container\">\n",
              "    <div>\n",
              "<style scoped>\n",
              "    .dataframe tbody tr th:only-of-type {\n",
              "        vertical-align: middle;\n",
              "    }\n",
              "\n",
              "    .dataframe tbody tr th {\n",
              "        vertical-align: top;\n",
              "    }\n",
              "\n",
              "    .dataframe thead th {\n",
              "        text-align: right;\n",
              "    }\n",
              "</style>\n",
              "<table border=\"1\" class=\"dataframe\">\n",
              "  <thead>\n",
              "    <tr style=\"text-align: right;\">\n",
              "      <th></th>\n",
              "      <th>churned_and_reactivated</th>\n",
              "    </tr>\n",
              "  </thead>\n",
              "  <tbody>\n",
              "    <tr>\n",
              "      <th>0</th>\n",
              "      <td>1</td>\n",
              "    </tr>\n",
              "  </tbody>\n",
              "</table>\n",
              "</div>\n",
              "    <div class=\"colab-df-buttons\">\n",
              "\n",
              "  <div class=\"colab-df-container\">\n",
              "    <button class=\"colab-df-convert\" onclick=\"convertToInteractive('df-010b8f39-fb58-44af-962f-3503c0c27d11')\"\n",
              "            title=\"Convert this dataframe to an interactive table.\"\n",
              "            style=\"display:none;\">\n",
              "\n",
              "  <svg xmlns=\"http://www.w3.org/2000/svg\" height=\"24px\" viewBox=\"0 -960 960 960\">\n",
              "    <path d=\"M120-120v-720h720v720H120Zm60-500h600v-160H180v160Zm220 220h160v-160H400v160Zm0 220h160v-160H400v160ZM180-400h160v-160H180v160Zm440 0h160v-160H620v160ZM180-180h160v-160H180v160Zm440 0h160v-160H620v160Z\"/>\n",
              "  </svg>\n",
              "    </button>\n",
              "\n",
              "  <style>\n",
              "    .colab-df-container {\n",
              "      display:flex;\n",
              "      gap: 12px;\n",
              "    }\n",
              "\n",
              "    .colab-df-convert {\n",
              "      background-color: #E8F0FE;\n",
              "      border: none;\n",
              "      border-radius: 50%;\n",
              "      cursor: pointer;\n",
              "      display: none;\n",
              "      fill: #1967D2;\n",
              "      height: 32px;\n",
              "      padding: 0 0 0 0;\n",
              "      width: 32px;\n",
              "    }\n",
              "\n",
              "    .colab-df-convert:hover {\n",
              "      background-color: #E2EBFA;\n",
              "      box-shadow: 0px 1px 2px rgba(60, 64, 67, 0.3), 0px 1px 3px 1px rgba(60, 64, 67, 0.15);\n",
              "      fill: #174EA6;\n",
              "    }\n",
              "\n",
              "    .colab-df-buttons div {\n",
              "      margin-bottom: 4px;\n",
              "    }\n",
              "\n",
              "    [theme=dark] .colab-df-convert {\n",
              "      background-color: #3B4455;\n",
              "      fill: #D2E3FC;\n",
              "    }\n",
              "\n",
              "    [theme=dark] .colab-df-convert:hover {\n",
              "      background-color: #434B5C;\n",
              "      box-shadow: 0px 1px 3px 1px rgba(0, 0, 0, 0.15);\n",
              "      filter: drop-shadow(0px 1px 2px rgba(0, 0, 0, 0.3));\n",
              "      fill: #FFFFFF;\n",
              "    }\n",
              "  </style>\n",
              "\n",
              "    <script>\n",
              "      const buttonEl =\n",
              "        document.querySelector('#df-010b8f39-fb58-44af-962f-3503c0c27d11 button.colab-df-convert');\n",
              "      buttonEl.style.display =\n",
              "        google.colab.kernel.accessAllowed ? 'block' : 'none';\n",
              "\n",
              "      async function convertToInteractive(key) {\n",
              "        const element = document.querySelector('#df-010b8f39-fb58-44af-962f-3503c0c27d11');\n",
              "        const dataTable =\n",
              "          await google.colab.kernel.invokeFunction('convertToInteractive',\n",
              "                                                    [key], {});\n",
              "        if (!dataTable) return;\n",
              "\n",
              "        const docLinkHtml = 'Like what you see? Visit the ' +\n",
              "          '<a target=\"_blank\" href=https://colab.research.google.com/notebooks/data_table.ipynb>data table notebook</a>'\n",
              "          + ' to learn more about interactive tables.';\n",
              "        element.innerHTML = '';\n",
              "        dataTable['output_type'] = 'display_data';\n",
              "        await google.colab.output.renderOutput(dataTable, element);\n",
              "        const docLink = document.createElement('div');\n",
              "        docLink.innerHTML = docLinkHtml;\n",
              "        element.appendChild(docLink);\n",
              "      }\n",
              "    </script>\n",
              "  </div>\n",
              "\n",
              "\n",
              "    </div>\n",
              "  </div>\n"
            ],
            "application/vnd.google.colaboratory.intrinsic+json": {
              "type": "dataframe",
              "summary": "{\n  \"name\": \"pd\",\n  \"rows\": 1,\n  \"fields\": [\n    {\n      \"column\": \"churned_and_reactivated\",\n      \"properties\": {\n        \"dtype\": \"number\",\n        \"std\": null,\n        \"min\": 1,\n        \"max\": 1,\n        \"num_unique_values\": 1,\n        \"samples\": [\n          1\n        ],\n        \"semantic_type\": \"\",\n        \"description\": \"\"\n      }\n    }\n  ]\n}"
            }
          },
          "metadata": {},
          "execution_count": 10
        }
      ]
    },
    {
      "cell_type": "markdown",
      "source": [
        "\n",
        "\n",
        "---\n",
        "\n"
      ],
      "metadata": {
        "id": "NFEC7usTJcl7"
      }
    },
    {
      "cell_type": "markdown",
      "source": [
        "## Calculate the expected MRR (monthly recurring revenue) per month\n",
        "\n",
        "To calculate the monthly revenue, I had to take into account the following columns:\n",
        "\n",
        "**billing_period_unit**: indicates the billing type, whether it's monthly or yearly. (Since we want the value in months, any yearly billing should be converted.)\n",
        "\n",
        "**billing_period**: tells us the duration of the billing cycle, in months or years.\n",
        "\n",
        "**current_opp_status**: should be filtered as \"Paying\", since it represents active and most importantly paying customers."
      ],
      "metadata": {
        "id": "VJ0dTHzLHM9s"
      }
    },
    {
      "cell_type": "code",
      "source": [
        "query = \"\"\"\n",
        "SELECT\n",
        "  strftime('%Y-%m', current_opp_status_date) AS month,\n",
        "  SUM(opportunity_value * 1.0 /\n",
        "      CASE\n",
        "        WHEN LOWER(billing_period_unit) = 'year' THEN billing_period * 12\n",
        "        WHEN LOWER(billing_period_unit) = 'month' THEN billing_period\n",
        "        ELSE 1\n",
        "      END\n",
        "  ) AS expected_mrr\n",
        "FROM sales_data\n",
        "WHERE LOWER(current_opp_status) = 'paying'\n",
        "GROUP BY month\n",
        "ORDER BY month;\n",
        "\"\"\""
      ],
      "metadata": {
        "id": "BFRN7fIF5z2G"
      },
      "execution_count": null,
      "outputs": []
    },
    {
      "cell_type": "code",
      "source": [
        "mrr_df = pd.read_sql_query(query, conn)\n",
        "print(mrr_df)"
      ],
      "metadata": {
        "colab": {
          "base_uri": "https://localhost:8080/"
        },
        "id": "Z7-tbLK851XW",
        "outputId": "ea250639-feb1-4f41-8b1f-8622258a0949"
      },
      "execution_count": null,
      "outputs": [
        {
          "output_type": "stream",
          "name": "stdout",
          "text": [
            "      month  expected_mrr\n",
            "0   2016-06    507.821609\n",
            "1   2016-07     29.750000\n",
            "2   2016-08     48.035714\n",
            "3   2016-09     48.009524\n",
            "4   2016-10     59.083333\n",
            "5   2016-11    192.189286\n",
            "6   2016-12    130.050000\n",
            "7   2017-01   1711.145418\n",
            "8   2017-02    545.394444\n",
            "9   2017-03    758.544444\n",
            "10  2017-04    280.633838\n",
            "11  2017-05    999.399892\n",
            "12  2017-06    562.327345\n",
            "13  2017-07    683.433153\n",
            "14  2017-08    418.778211\n",
            "15  2017-09    447.459524\n",
            "16  2017-10    669.248232\n",
            "17  2017-11   1040.694048\n",
            "18  2017-12    628.406349\n",
            "19  2018-01    939.779582\n",
            "20  2018-02    871.683333\n",
            "21  2018-03    833.989141\n",
            "22  2018-04   1225.671825\n",
            "23  2018-05    743.483333\n",
            "24  2018-06   1065.543218\n",
            "25  2018-07    845.653463\n",
            "26  2018-08   1126.053932\n",
            "27  2018-09   1042.641486\n",
            "28  2018-10   1535.196104\n",
            "29  2018-11   1248.287662\n",
            "30  2018-12   1497.133261\n",
            "31  2019-01   2412.053824\n",
            "32  2019-02   1543.271681\n",
            "33  2019-03    949.547258\n",
            "34  2019-04     34.333333\n",
            "35  2019-05    189.833333\n"
          ]
        }
      ]
    },
    {
      "cell_type": "markdown",
      "source": [
        "\n",
        "\n",
        "---\n",
        "\n"
      ],
      "metadata": {
        "id": "p_c6eoMbMUPa"
      }
    },
    {
      "cell_type": "markdown",
      "source": [
        "## Calculate the number of (potential) customers per month up to today\n",
        "My idea here was to check all possible statuses. I could've just looked at the current_lead_status and current_opp_status. but my idea was to filter removing all the status who were lost, churned, potential fake, not interested, blacklist, not responding, cold... because that way i could truly focus on potential clients and i also aligned all of them to avoid a mx of negative and positive indicators\n"
      ],
      "metadata": {
        "id": "Hw3J1INOMWA3"
      }
    },
    {
      "cell_type": "code",
      "source": [
        "query = \"\"\"\n",
        "SELECT\n",
        "  strftime('%Y-%m', current_opp_status_date) AS month,\n",
        "  COUNT(DISTINCT company) AS potential_customers\n",
        "FROM sales_data\n",
        "WHERE\n",
        "  LOWER(old_status_label) NOT IN ('opp - lost', 'churned')\n",
        "  AND LOWER(new_status_label) NOT IN ('opp - lost', 'churned')\n",
        "  AND LOWER(current_lead_status) NOT IN ('lost', 'cold', 'potential fake', 'not interested', 'blacklist', 'not responding')\n",
        "  AND LOWER(current_opp_status) NOT IN ('opp - lost', 'churned')\n",
        "GROUP BY month\n",
        "ORDER BY month;\n",
        "\"\"\"\n"
      ],
      "metadata": {
        "id": "ObDaP26QvM3s"
      },
      "execution_count": null,
      "outputs": []
    },
    {
      "cell_type": "code",
      "source": [
        "pd.read_sql_query(query, conn)"
      ],
      "metadata": {
        "colab": {
          "base_uri": "https://localhost:8080/",
          "height": 1000
        },
        "id": "kFXraVjCvPJ5",
        "outputId": "853d9c39-7b4b-4ecf-dcac-bb651c57b177"
      },
      "execution_count": null,
      "outputs": [
        {
          "output_type": "execute_result",
          "data": {
            "text/plain": [
              "      month  potential_customers\n",
              "0   2016-06                   31\n",
              "1   2016-07                    3\n",
              "2   2016-08                    3\n",
              "3   2016-09                    4\n",
              "4   2016-10                    3\n",
              "5   2016-11                    6\n",
              "6   2016-12                   16\n",
              "7   2017-01                   82\n",
              "8   2017-02                   18\n",
              "9   2017-03                   35\n",
              "10  2017-04                   20\n",
              "11  2017-05                   38\n",
              "12  2017-06                   24\n",
              "13  2017-07                   28\n",
              "14  2017-08                   20\n",
              "15  2017-09                   29\n",
              "16  2017-10                   32\n",
              "17  2017-11                   44\n",
              "18  2017-12                   30\n",
              "19  2018-01                   39\n",
              "20  2018-02                   38\n",
              "21  2018-03                   40\n",
              "22  2018-04                   43\n",
              "23  2018-05                   34\n",
              "24  2018-06                   47\n",
              "25  2018-07                   39\n",
              "26  2018-08                   52\n",
              "27  2018-09                   46\n",
              "28  2018-10                   51\n",
              "29  2018-11                   64\n",
              "30  2018-12                   66\n",
              "31  2019-01                  109\n",
              "32  2019-02                  122\n",
              "33  2019-03                  195\n",
              "34  2019-04                  211\n",
              "35  2019-05                  103"
            ],
            "text/html": [
              "\n",
              "  <div id=\"df-12b0ddb8-1234-46cc-9b9f-41b8bb22cdd1\" class=\"colab-df-container\">\n",
              "    <div>\n",
              "<style scoped>\n",
              "    .dataframe tbody tr th:only-of-type {\n",
              "        vertical-align: middle;\n",
              "    }\n",
              "\n",
              "    .dataframe tbody tr th {\n",
              "        vertical-align: top;\n",
              "    }\n",
              "\n",
              "    .dataframe thead th {\n",
              "        text-align: right;\n",
              "    }\n",
              "</style>\n",
              "<table border=\"1\" class=\"dataframe\">\n",
              "  <thead>\n",
              "    <tr style=\"text-align: right;\">\n",
              "      <th></th>\n",
              "      <th>month</th>\n",
              "      <th>potential_customers</th>\n",
              "    </tr>\n",
              "  </thead>\n",
              "  <tbody>\n",
              "    <tr>\n",
              "      <th>0</th>\n",
              "      <td>2016-06</td>\n",
              "      <td>31</td>\n",
              "    </tr>\n",
              "    <tr>\n",
              "      <th>1</th>\n",
              "      <td>2016-07</td>\n",
              "      <td>3</td>\n",
              "    </tr>\n",
              "    <tr>\n",
              "      <th>2</th>\n",
              "      <td>2016-08</td>\n",
              "      <td>3</td>\n",
              "    </tr>\n",
              "    <tr>\n",
              "      <th>3</th>\n",
              "      <td>2016-09</td>\n",
              "      <td>4</td>\n",
              "    </tr>\n",
              "    <tr>\n",
              "      <th>4</th>\n",
              "      <td>2016-10</td>\n",
              "      <td>3</td>\n",
              "    </tr>\n",
              "    <tr>\n",
              "      <th>5</th>\n",
              "      <td>2016-11</td>\n",
              "      <td>6</td>\n",
              "    </tr>\n",
              "    <tr>\n",
              "      <th>6</th>\n",
              "      <td>2016-12</td>\n",
              "      <td>16</td>\n",
              "    </tr>\n",
              "    <tr>\n",
              "      <th>7</th>\n",
              "      <td>2017-01</td>\n",
              "      <td>82</td>\n",
              "    </tr>\n",
              "    <tr>\n",
              "      <th>8</th>\n",
              "      <td>2017-02</td>\n",
              "      <td>18</td>\n",
              "    </tr>\n",
              "    <tr>\n",
              "      <th>9</th>\n",
              "      <td>2017-03</td>\n",
              "      <td>35</td>\n",
              "    </tr>\n",
              "    <tr>\n",
              "      <th>10</th>\n",
              "      <td>2017-04</td>\n",
              "      <td>20</td>\n",
              "    </tr>\n",
              "    <tr>\n",
              "      <th>11</th>\n",
              "      <td>2017-05</td>\n",
              "      <td>38</td>\n",
              "    </tr>\n",
              "    <tr>\n",
              "      <th>12</th>\n",
              "      <td>2017-06</td>\n",
              "      <td>24</td>\n",
              "    </tr>\n",
              "    <tr>\n",
              "      <th>13</th>\n",
              "      <td>2017-07</td>\n",
              "      <td>28</td>\n",
              "    </tr>\n",
              "    <tr>\n",
              "      <th>14</th>\n",
              "      <td>2017-08</td>\n",
              "      <td>20</td>\n",
              "    </tr>\n",
              "    <tr>\n",
              "      <th>15</th>\n",
              "      <td>2017-09</td>\n",
              "      <td>29</td>\n",
              "    </tr>\n",
              "    <tr>\n",
              "      <th>16</th>\n",
              "      <td>2017-10</td>\n",
              "      <td>32</td>\n",
              "    </tr>\n",
              "    <tr>\n",
              "      <th>17</th>\n",
              "      <td>2017-11</td>\n",
              "      <td>44</td>\n",
              "    </tr>\n",
              "    <tr>\n",
              "      <th>18</th>\n",
              "      <td>2017-12</td>\n",
              "      <td>30</td>\n",
              "    </tr>\n",
              "    <tr>\n",
              "      <th>19</th>\n",
              "      <td>2018-01</td>\n",
              "      <td>39</td>\n",
              "    </tr>\n",
              "    <tr>\n",
              "      <th>20</th>\n",
              "      <td>2018-02</td>\n",
              "      <td>38</td>\n",
              "    </tr>\n",
              "    <tr>\n",
              "      <th>21</th>\n",
              "      <td>2018-03</td>\n",
              "      <td>40</td>\n",
              "    </tr>\n",
              "    <tr>\n",
              "      <th>22</th>\n",
              "      <td>2018-04</td>\n",
              "      <td>43</td>\n",
              "    </tr>\n",
              "    <tr>\n",
              "      <th>23</th>\n",
              "      <td>2018-05</td>\n",
              "      <td>34</td>\n",
              "    </tr>\n",
              "    <tr>\n",
              "      <th>24</th>\n",
              "      <td>2018-06</td>\n",
              "      <td>47</td>\n",
              "    </tr>\n",
              "    <tr>\n",
              "      <th>25</th>\n",
              "      <td>2018-07</td>\n",
              "      <td>39</td>\n",
              "    </tr>\n",
              "    <tr>\n",
              "      <th>26</th>\n",
              "      <td>2018-08</td>\n",
              "      <td>52</td>\n",
              "    </tr>\n",
              "    <tr>\n",
              "      <th>27</th>\n",
              "      <td>2018-09</td>\n",
              "      <td>46</td>\n",
              "    </tr>\n",
              "    <tr>\n",
              "      <th>28</th>\n",
              "      <td>2018-10</td>\n",
              "      <td>51</td>\n",
              "    </tr>\n",
              "    <tr>\n",
              "      <th>29</th>\n",
              "      <td>2018-11</td>\n",
              "      <td>64</td>\n",
              "    </tr>\n",
              "    <tr>\n",
              "      <th>30</th>\n",
              "      <td>2018-12</td>\n",
              "      <td>66</td>\n",
              "    </tr>\n",
              "    <tr>\n",
              "      <th>31</th>\n",
              "      <td>2019-01</td>\n",
              "      <td>109</td>\n",
              "    </tr>\n",
              "    <tr>\n",
              "      <th>32</th>\n",
              "      <td>2019-02</td>\n",
              "      <td>122</td>\n",
              "    </tr>\n",
              "    <tr>\n",
              "      <th>33</th>\n",
              "      <td>2019-03</td>\n",
              "      <td>195</td>\n",
              "    </tr>\n",
              "    <tr>\n",
              "      <th>34</th>\n",
              "      <td>2019-04</td>\n",
              "      <td>211</td>\n",
              "    </tr>\n",
              "    <tr>\n",
              "      <th>35</th>\n",
              "      <td>2019-05</td>\n",
              "      <td>103</td>\n",
              "    </tr>\n",
              "  </tbody>\n",
              "</table>\n",
              "</div>\n",
              "    <div class=\"colab-df-buttons\">\n",
              "\n",
              "  <div class=\"colab-df-container\">\n",
              "    <button class=\"colab-df-convert\" onclick=\"convertToInteractive('df-12b0ddb8-1234-46cc-9b9f-41b8bb22cdd1')\"\n",
              "            title=\"Convert this dataframe to an interactive table.\"\n",
              "            style=\"display:none;\">\n",
              "\n",
              "  <svg xmlns=\"http://www.w3.org/2000/svg\" height=\"24px\" viewBox=\"0 -960 960 960\">\n",
              "    <path d=\"M120-120v-720h720v720H120Zm60-500h600v-160H180v160Zm220 220h160v-160H400v160Zm0 220h160v-160H400v160ZM180-400h160v-160H180v160Zm440 0h160v-160H620v160ZM180-180h160v-160H180v160Zm440 0h160v-160H620v160Z\"/>\n",
              "  </svg>\n",
              "    </button>\n",
              "\n",
              "  <style>\n",
              "    .colab-df-container {\n",
              "      display:flex;\n",
              "      gap: 12px;\n",
              "    }\n",
              "\n",
              "    .colab-df-convert {\n",
              "      background-color: #E8F0FE;\n",
              "      border: none;\n",
              "      border-radius: 50%;\n",
              "      cursor: pointer;\n",
              "      display: none;\n",
              "      fill: #1967D2;\n",
              "      height: 32px;\n",
              "      padding: 0 0 0 0;\n",
              "      width: 32px;\n",
              "    }\n",
              "\n",
              "    .colab-df-convert:hover {\n",
              "      background-color: #E2EBFA;\n",
              "      box-shadow: 0px 1px 2px rgba(60, 64, 67, 0.3), 0px 1px 3px 1px rgba(60, 64, 67, 0.15);\n",
              "      fill: #174EA6;\n",
              "    }\n",
              "\n",
              "    .colab-df-buttons div {\n",
              "      margin-bottom: 4px;\n",
              "    }\n",
              "\n",
              "    [theme=dark] .colab-df-convert {\n",
              "      background-color: #3B4455;\n",
              "      fill: #D2E3FC;\n",
              "    }\n",
              "\n",
              "    [theme=dark] .colab-df-convert:hover {\n",
              "      background-color: #434B5C;\n",
              "      box-shadow: 0px 1px 3px 1px rgba(0, 0, 0, 0.15);\n",
              "      filter: drop-shadow(0px 1px 2px rgba(0, 0, 0, 0.3));\n",
              "      fill: #FFFFFF;\n",
              "    }\n",
              "  </style>\n",
              "\n",
              "    <script>\n",
              "      const buttonEl =\n",
              "        document.querySelector('#df-12b0ddb8-1234-46cc-9b9f-41b8bb22cdd1 button.colab-df-convert');\n",
              "      buttonEl.style.display =\n",
              "        google.colab.kernel.accessAllowed ? 'block' : 'none';\n",
              "\n",
              "      async function convertToInteractive(key) {\n",
              "        const element = document.querySelector('#df-12b0ddb8-1234-46cc-9b9f-41b8bb22cdd1');\n",
              "        const dataTable =\n",
              "          await google.colab.kernel.invokeFunction('convertToInteractive',\n",
              "                                                    [key], {});\n",
              "        if (!dataTable) return;\n",
              "\n",
              "        const docLinkHtml = 'Like what you see? Visit the ' +\n",
              "          '<a target=\"_blank\" href=https://colab.research.google.com/notebooks/data_table.ipynb>data table notebook</a>'\n",
              "          + ' to learn more about interactive tables.';\n",
              "        element.innerHTML = '';\n",
              "        dataTable['output_type'] = 'display_data';\n",
              "        await google.colab.output.renderOutput(dataTable, element);\n",
              "        const docLink = document.createElement('div');\n",
              "        docLink.innerHTML = docLinkHtml;\n",
              "        element.appendChild(docLink);\n",
              "      }\n",
              "    </script>\n",
              "  </div>\n",
              "\n",
              "\n",
              "    <div id=\"df-f8779bda-c897-4bab-8546-61fea15c8ec3\">\n",
              "      <button class=\"colab-df-quickchart\" onclick=\"quickchart('df-f8779bda-c897-4bab-8546-61fea15c8ec3')\"\n",
              "                title=\"Suggest charts\"\n",
              "                style=\"display:none;\">\n",
              "\n",
              "<svg xmlns=\"http://www.w3.org/2000/svg\" height=\"24px\"viewBox=\"0 0 24 24\"\n",
              "     width=\"24px\">\n",
              "    <g>\n",
              "        <path d=\"M19 3H5c-1.1 0-2 .9-2 2v14c0 1.1.9 2 2 2h14c1.1 0 2-.9 2-2V5c0-1.1-.9-2-2-2zM9 17H7v-7h2v7zm4 0h-2V7h2v10zm4 0h-2v-4h2v4z\"/>\n",
              "    </g>\n",
              "</svg>\n",
              "      </button>\n",
              "\n",
              "<style>\n",
              "  .colab-df-quickchart {\n",
              "      --bg-color: #E8F0FE;\n",
              "      --fill-color: #1967D2;\n",
              "      --hover-bg-color: #E2EBFA;\n",
              "      --hover-fill-color: #174EA6;\n",
              "      --disabled-fill-color: #AAA;\n",
              "      --disabled-bg-color: #DDD;\n",
              "  }\n",
              "\n",
              "  [theme=dark] .colab-df-quickchart {\n",
              "      --bg-color: #3B4455;\n",
              "      --fill-color: #D2E3FC;\n",
              "      --hover-bg-color: #434B5C;\n",
              "      --hover-fill-color: #FFFFFF;\n",
              "      --disabled-bg-color: #3B4455;\n",
              "      --disabled-fill-color: #666;\n",
              "  }\n",
              "\n",
              "  .colab-df-quickchart {\n",
              "    background-color: var(--bg-color);\n",
              "    border: none;\n",
              "    border-radius: 50%;\n",
              "    cursor: pointer;\n",
              "    display: none;\n",
              "    fill: var(--fill-color);\n",
              "    height: 32px;\n",
              "    padding: 0;\n",
              "    width: 32px;\n",
              "  }\n",
              "\n",
              "  .colab-df-quickchart:hover {\n",
              "    background-color: var(--hover-bg-color);\n",
              "    box-shadow: 0 1px 2px rgba(60, 64, 67, 0.3), 0 1px 3px 1px rgba(60, 64, 67, 0.15);\n",
              "    fill: var(--button-hover-fill-color);\n",
              "  }\n",
              "\n",
              "  .colab-df-quickchart-complete:disabled,\n",
              "  .colab-df-quickchart-complete:disabled:hover {\n",
              "    background-color: var(--disabled-bg-color);\n",
              "    fill: var(--disabled-fill-color);\n",
              "    box-shadow: none;\n",
              "  }\n",
              "\n",
              "  .colab-df-spinner {\n",
              "    border: 2px solid var(--fill-color);\n",
              "    border-color: transparent;\n",
              "    border-bottom-color: var(--fill-color);\n",
              "    animation:\n",
              "      spin 1s steps(1) infinite;\n",
              "  }\n",
              "\n",
              "  @keyframes spin {\n",
              "    0% {\n",
              "      border-color: transparent;\n",
              "      border-bottom-color: var(--fill-color);\n",
              "      border-left-color: var(--fill-color);\n",
              "    }\n",
              "    20% {\n",
              "      border-color: transparent;\n",
              "      border-left-color: var(--fill-color);\n",
              "      border-top-color: var(--fill-color);\n",
              "    }\n",
              "    30% {\n",
              "      border-color: transparent;\n",
              "      border-left-color: var(--fill-color);\n",
              "      border-top-color: var(--fill-color);\n",
              "      border-right-color: var(--fill-color);\n",
              "    }\n",
              "    40% {\n",
              "      border-color: transparent;\n",
              "      border-right-color: var(--fill-color);\n",
              "      border-top-color: var(--fill-color);\n",
              "    }\n",
              "    60% {\n",
              "      border-color: transparent;\n",
              "      border-right-color: var(--fill-color);\n",
              "    }\n",
              "    80% {\n",
              "      border-color: transparent;\n",
              "      border-right-color: var(--fill-color);\n",
              "      border-bottom-color: var(--fill-color);\n",
              "    }\n",
              "    90% {\n",
              "      border-color: transparent;\n",
              "      border-bottom-color: var(--fill-color);\n",
              "    }\n",
              "  }\n",
              "</style>\n",
              "\n",
              "      <script>\n",
              "        async function quickchart(key) {\n",
              "          const quickchartButtonEl =\n",
              "            document.querySelector('#' + key + ' button');\n",
              "          quickchartButtonEl.disabled = true;  // To prevent multiple clicks.\n",
              "          quickchartButtonEl.classList.add('colab-df-spinner');\n",
              "          try {\n",
              "            const charts = await google.colab.kernel.invokeFunction(\n",
              "                'suggestCharts', [key], {});\n",
              "          } catch (error) {\n",
              "            console.error('Error during call to suggestCharts:', error);\n",
              "          }\n",
              "          quickchartButtonEl.classList.remove('colab-df-spinner');\n",
              "          quickchartButtonEl.classList.add('colab-df-quickchart-complete');\n",
              "        }\n",
              "        (() => {\n",
              "          let quickchartButtonEl =\n",
              "            document.querySelector('#df-f8779bda-c897-4bab-8546-61fea15c8ec3 button');\n",
              "          quickchartButtonEl.style.display =\n",
              "            google.colab.kernel.accessAllowed ? 'block' : 'none';\n",
              "        })();\n",
              "      </script>\n",
              "    </div>\n",
              "\n",
              "    </div>\n",
              "  </div>\n"
            ],
            "application/vnd.google.colaboratory.intrinsic+json": {
              "type": "dataframe",
              "summary": "{\n  \"name\": \"pd\",\n  \"rows\": 36,\n  \"fields\": [\n    {\n      \"column\": \"month\",\n      \"properties\": {\n        \"dtype\": \"object\",\n        \"num_unique_values\": 36,\n        \"samples\": [\n          \"2019-05\",\n          \"2017-07\",\n          \"2018-08\"\n        ],\n        \"semantic_type\": \"\",\n        \"description\": \"\"\n      }\n    },\n    {\n      \"column\": \"potential_customers\",\n      \"properties\": {\n        \"dtype\": \"number\",\n        \"std\": 47,\n        \"min\": 3,\n        \"max\": 211,\n        \"num_unique_values\": 31,\n        \"samples\": [\n          122,\n          30,\n          51\n        ],\n        \"semantic_type\": \"\",\n        \"description\": \"\"\n      }\n    }\n  ]\n}"
            }
          },
          "metadata": {},
          "execution_count": 14
        }
      ]
    },
    {
      "cell_type": "markdown",
      "source": [
        "\n",
        "\n",
        "---\n",
        "\n"
      ],
      "metadata": {
        "id": "dYda-m3awfok"
      }
    },
    {
      "cell_type": "markdown",
      "source": [
        "Now moving to the last part of the challenge, loading the tables from the sqlite db to pandas dataframes"
      ],
      "metadata": {
        "id": "DwS5NwARNR-L"
      }
    },
    {
      "cell_type": "markdown",
      "source": [
        "# Create charts/analyses that you believe show some business value.  Some graphing libraries you can use are Matplotlib or Seaborn, but please use whatever you are comfortable with."
      ],
      "metadata": {
        "id": "OGwgNJLrN6u-"
      }
    },
    {
      "cell_type": "code",
      "source": [
        "import matplotlib.pyplot as plt\n",
        "from sklearn.linear_model import LogisticRegression\n",
        "from sklearn.model_selection import train_test_split\n",
        "from sklearn.metrics import roc_auc_score\n",
        "import seaborn as sns"
      ],
      "metadata": {
        "id": "SGw7PJpBOH5P"
      },
      "execution_count": null,
      "outputs": []
    },
    {
      "cell_type": "markdown",
      "source": [
        "# My analysis:\n",
        "\n",
        "First i focused on visualizing the companies with highest revenue.\n",
        "For that, i considered the opportunity value and the billing periods.\n",
        "\n",
        "First, I looked up on how to normalize the periods, so if we had on the data set column billing_period_unit as \"year\" I would convert it to months.\n",
        "\n",
        "Then calculate the total revenue considering the opportunity value and the period in months\n",
        "\n",
        "And after that group by company, limiting by top 10"
      ],
      "metadata": {
        "id": "c24uzrebpaqQ"
      }
    },
    {
      "cell_type": "code",
      "source": [
        "df['period_in_months'] = df.apply(\n",
        "    lambda row: row['billing_period'] * 12 if row['billing_period_unit'].lower() == 'year' else row['billing_period'],\n",
        "    axis=1\n",
        ")"
      ],
      "metadata": {
        "id": "qBu0CK8xJXnC"
      },
      "execution_count": null,
      "outputs": []
    },
    {
      "cell_type": "code",
      "source": [
        "df['total_revenue'] = df['opportunity_value'] * df['period_in_months']"
      ],
      "metadata": {
        "id": "Nz7zDhSBpN6w"
      },
      "execution_count": null,
      "outputs": []
    },
    {
      "cell_type": "code",
      "source": [
        "revenue_by_company = df.groupby('company')['total_revenue'].sum().sort_values(ascending=False).reset_index()\n",
        "top_10_companies = revenue_by_company.head(10)"
      ],
      "metadata": {
        "id": "Rqu45v8sJw_h"
      },
      "execution_count": null,
      "outputs": []
    },
    {
      "cell_type": "code",
      "source": [
        "plt.figure(figsize=(6, 3))\n",
        "sns.barplot(data=top_10_companies, x='total_revenue', y='company', palette='Blues_r')\n",
        "plt.title('Top 10 Companies')\n",
        "plt.xlabel('Total Revenue (R$)')\n",
        "plt.ylabel('Company')\n",
        "plt.tight_layout()\n",
        "plt.show()"
      ],
      "metadata": {
        "colab": {
          "base_uri": "https://localhost:8080/",
          "height": 414
        },
        "id": "nSdSadj4pSXF",
        "outputId": "8591bc10-59e0-4d48-9d35-25462a4f412b"
      },
      "execution_count": null,
      "outputs": [
        {
          "output_type": "stream",
          "name": "stderr",
          "text": [
            "<ipython-input-25-23426b08b632>:2: FutureWarning: \n",
            "\n",
            "Passing `palette` without assigning `hue` is deprecated and will be removed in v0.14.0. Assign the `y` variable to `hue` and set `legend=False` for the same effect.\n",
            "\n",
            "  sns.barplot(data=top_10_companies, x='total_revenue', y='company', palette='Blues_r')\n"
          ]
        },
        {
          "output_type": "display_data",
          "data": {
            "text/plain": [
              "<Figure size 600x300 with 1 Axes>"
            ],
            "image/png": "[encoded data removed]"
          },
          "metadata": {}
        }
      ]
    },
    {
      "cell_type": "markdown",
      "source": [
        "There are many insights and analysis we could do, such as:\n",
        "\n",
        "* Compare contracts long and short term\n",
        "* Create a storytelling about the number one client, if it's a food company, for example, how we could attract more clients from the same segment, focus on advertisement.\n"
      ],
      "metadata": {
        "id": "9eRKUHMMK68c"
      }
    },
    {
      "cell_type": "markdown",
      "source": [
        "\n",
        "\n",
        "---\n",
        "\n"
      ],
      "metadata": {
        "id": "di041dGQqJC1"
      }
    },
    {
      "cell_type": "markdown",
      "source": [
        "# What predictive score could you build here to show business value? Explain/Demonstrate your answer.\n",
        "\n",
        "One predictive score that could add real business value is a Lead Conversion Probability Score.\n",
        "Using data like lead creation date, historical status changes, opportunity value, and billing patterns, we could train a model to estimate the likelihood that a lead will become a paying customer.\n",
        "\n",
        "This score would allow the sales team to prioritize high-potential leads, improve efficiency, and ultimately increase revenue."
      ],
      "metadata": {
        "id": "TEPsXXJZMwZ7"
      }
    },
    {
      "cell_type": "code",
      "source": [
        "# creating the target\n",
        "df['converted'] = df['current_opp_status'].str.lower() == 'paying'\n",
        "\n",
        "# features\n",
        "df['billing_period'] = pd.to_numeric(df['billing_period'], errors='coerce')\n",
        "df['opportunity_value'] = pd.to_numeric(df['opportunity_value'], errors='coerce')\n",
        "\n",
        "# drop values\n",
        "df_model = df[['billing_period', 'opportunity_value', 'converted']].dropna()\n",
        "\n",
        "# variables\n",
        "X = df_model[['billing_period', 'opportunity_value']]\n",
        "y = df_model['converted'].astype(int)\n",
        "\n",
        "# train model\n",
        "X_train, X_test, y_train, y_test = train_test_split(X, y, random_state=42)\n",
        "model = LogisticRegression()\n",
        "model.fit(X_train, y_train)\n",
        "\n",
        "# probability\n",
        "y_probs = model.predict_proba(X_test)[:, 1]\n",
        "\n",
        "# AUC\n",
        "auc = roc_auc_score(y_test, y_probs)\n",
        "print(f\"AUC: {auc:.2f}\")\n",
        "\n",
        "# PLOT\n",
        "plt.hist(y_probs, bins=20, color='skyblue', edgecolor='black')\n",
        "plt.title('Lead Conversion Probability Score')\n",
        "plt.xlabel('Probability of Conversion')\n",
        "plt.ylabel('Lead Count')\n",
        "plt.grid(True)\n",
        "plt.show()"
      ],
      "metadata": {
        "colab": {
          "base_uri": "https://localhost:8080/",
          "height": 489
        },
        "id": "lJf7fu-eBPvi",
        "outputId": "ba408c6f-af22-49d0-bdab-4e86401b69ff"
      },
      "execution_count": null,
      "outputs": [
        {
          "output_type": "stream",
          "name": "stdout",
          "text": [
            "AUC: 0.70\n"
          ]
        },
        {
          "output_type": "display_data",
          "data": {
            "text/plain": [
              "<Figure size 640x480 with 1 Axes>"
            ],
            "image/png": "[encoded data removed]"
          },
          "metadata": {}
        }
      ]
    }
  ]
}